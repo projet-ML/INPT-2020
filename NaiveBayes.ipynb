{
  "nbformat": 4,
  "nbformat_minor": 0,
  "metadata": {
    "colab": {
      "name": "Untitled1.ipynb",
      "provenance": [],
      "authorship_tag": "ABX9TyPRi7keU2l5Jt8mt1fFF2oB",
      "include_colab_link": true
    },
    "kernelspec": {
      "name": "python3",
      "display_name": "Python 3"
    }
  },
  "cells": [
    {
      "cell_type": "markdown",
      "metadata": {
        "id": "view-in-github",
        "colab_type": "text"
      },
      "source": [
        "<a href=\"https://colab.research.google.com/github/projet-ML/INPT-2020/blob/master/NaiveBayes.ipynb\" target=\"_parent\"><img src=\"https://colab.research.google.com/assets/colab-badge.svg\" alt=\"Open In Colab\"/></a>"
      ]
    },
    {
      "cell_type": "code",
      "metadata": {
        "id": "GTAkqMNIAQTg",
        "colab_type": "code",
        "outputId": "810b5c96-5a7e-4467-8150-64fc62c20866",
        "colab": {
          "base_uri": "https://localhost:8080/",
          "height": 146
        }
      },
      "source": [
        "import os\n",
        "import io\n",
        "import pandas as pd\n",
        "from sklearn.feature_extraction.text import CountVectorizer\n",
        "from sklearn.naive_bayes import MultinomialNB\n",
        "import requests\n",
        "import sys\n",
        "import sklearn\n",
        "import os\n",
        "%matplotlib inline\n",
        "import matplotlib as mpl\n",
        "import matplotlib.pyplot as plt\n",
        "import numpy as np\n",
        "import pandas as pd\n",
        "import sklearn.linear_model\n",
        "import urllib.request\n",
        "from sklearn import preprocessing\n",
        "from sklearn import pipeline\n",
        "\n",
        "\n",
        "\n",
        "\n",
        "PATH_TO_HAM_DIR = \"C:\\Users\\Kenza\\Desktop\\naive-bayes-spam-classifier-machine-learning-master\\emails\\ham\"\n",
        "PATH_TO_SPAM_DIR = \"C:\\Users\\Kenza\\Desktop\\naive-bayes-spam-classifier-machine-learning-master\\emails\\spam\"\n",
        " \n",
        "SPAM_TYPE = \"SPAM\"\n",
        "HAM_TYPE = \"HAM\"\n",
        " \n",
        "#les tableaux X et Y seront ordonnés et de la même taille\n",
        "# X représente l'input Data (ici les mails)\n",
        "X = []\n",
        "#indique s'il s'agit d'un mail ou non\n",
        "Y = [] #les etiquettes (labels) pour le training set\n",
        " \n",
        " \n",
        "def readFilesFromDirectory(path, classification):\n",
        "    os.chdir(path)\n",
        "    files_name = os.listdir(path)\n",
        "    for current_file in files_name:\n",
        "        message = extract_mail_body(current_file)\n",
        "        X.append(message)\n",
        "        Y.append(classification)\n",
        "        \n",
        "            \n",
        " \n",
        "def extract_mail_body(file_name_str):\n",
        "    inBody = False\n",
        "    lines = []\n",
        "    file_descriptor = io.open(file_name_str,'r', encoding='latin1')\n",
        "    for line in file_descriptor:\n",
        "        if inBody:\n",
        "            lines.append(line)\n",
        "        elif line == '\\n':\n",
        "            inBody = True\n",
        "        message = '\\n'.join(lines)\n",
        "    file_descriptor.close()\n",
        "    return message\n",
        " \n",
        " \n",
        "readFilesFromDirectory(PATH_TO_HAM_DIR, HAM_TYPE)\n",
        "readFilesFromDirectory(PATH_TO_SPAM_DIR, SPAM_TYPE)"
      ],
      "execution_count": 0,
      "outputs": [
        {
          "output_type": "error",
          "ename": "SyntaxError",
          "evalue": "ignored",
          "traceback": [
            "\u001b[0;36m  File \u001b[0;32m\"<ipython-input-1-1a69f24333ee>\"\u001b[0;36m, line \u001b[0;32m8\u001b[0m\n\u001b[0;31m    PATH_TO_HAM_DIR = \"C:\\Users\\Kenza\\Desktop\\naive-bayes-spam-classifier-machine-learning-master\\emails\\ham\"\u001b[0m\n\u001b[0m                     ^\u001b[0m\n\u001b[0;31mSyntaxError\u001b[0m\u001b[0;31m:\u001b[0m (unicode error) 'unicodeescape' codec can't decode bytes in position 2-3: truncated \\UXXXXXXXX escape\n"
          ]
        },
        {
          "output_type": "stream",
          "text": [
            "ERROR! Session/line number was not unique in database. History logging moved to new session 61\n"
          ],
          "name": "stdout"
        }
      ]
    },
    {
      "cell_type": "code",
      "metadata": {
        "id": "uQzJX4rOAIkX",
        "colab_type": "code",
        "colab": {}
      },
      "source": [
        ""
      ],
      "execution_count": 0,
      "outputs": []
    }
  ]
}